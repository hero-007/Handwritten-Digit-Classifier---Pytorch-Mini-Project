{
  "nbformat": 4,
  "nbformat_minor": 0,
  "metadata": {
    "colab": {
      "name": "Handwritten_Digits_Classifier.ipynb",
      "version": "0.3.2",
      "provenance": []
    },
    "kernelspec": {
      "name": "python3",
      "display_name": "Python 3"
    }
  },
  "cells": [
    {
      "metadata": {
        "id": "9cKPNTGaNI7x",
        "colab_type": "code",
        "colab": {}
      },
      "cell_type": "code",
      "source": [
        "# http://pytorch.org/\n",
        "from os.path import exists\n",
        "from wheel.pep425tags import get_abbr_impl, get_impl_ver, get_abi_tag\n",
        "platform = '{}{}-{}'.format(get_abbr_impl(), get_impl_ver(), get_abi_tag())\n",
        "cuda_output = !ldconfig -p|grep cudart.so|sed -e 's/.*\\.\\([0-9]*\\)\\.\\([0-9]*\\)$/cu\\1\\2/'\n",
        "accelerator = cuda_output[0] if exists('/dev/nvidia0') else 'cpu'\n",
        "\n",
        "!pip install -q http://download.pytorch.org/whl/{accelerator}/torch-0.4.1-{platform}-linux_x86_64.whl torchvision\n",
        "import torch"
      ],
      "execution_count": 0,
      "outputs": []
    },
    {
      "metadata": {
        "id": "W0z8UTFfXGAE",
        "colab_type": "code",
        "outputId": "87c98faa-46e5-416f-a04f-1b1af5ac2aab",
        "colab": {
          "base_uri": "https://localhost:8080/",
          "height": 136
        }
      },
      "cell_type": "code",
      "source": [
        "!wget -c https://raw.githubusercontent.com/udacity/deep-learning-v2-pytorch/master/intro-to-pytorch/helper.py"
      ],
      "execution_count": 2,
      "outputs": [
        {
          "output_type": "stream",
          "text": [
            "--2018-12-22 13:39:07--  https://raw.githubusercontent.com/udacity/deep-learning-v2-pytorch/master/intro-to-pytorch/helper.py\n",
            "Resolving raw.githubusercontent.com (raw.githubusercontent.com)... 151.101.0.133, 151.101.64.133, 151.101.128.133, ...\n",
            "Connecting to raw.githubusercontent.com (raw.githubusercontent.com)|151.101.0.133|:443... connected.\n",
            "HTTP request sent, awaiting response... 416 Range Not Satisfiable\n",
            "\n",
            "    The file is already fully retrieved; nothing to do.\n",
            "\n"
          ],
          "name": "stdout"
        }
      ]
    },
    {
      "metadata": {
        "id": "HbfzyHXLNcEE",
        "colab_type": "code",
        "colab": {}
      },
      "cell_type": "code",
      "source": [
        "from torch import nn\n",
        "from torchvision import datasets,transforms\n",
        "from torch import optim\n",
        "import torch.nn.functional as F"
      ],
      "execution_count": 0,
      "outputs": []
    },
    {
      "metadata": {
        "id": "xBhWcbP2R8Ed",
        "colab_type": "code",
        "colab": {}
      },
      "cell_type": "code",
      "source": [
        "# loading mnist dataset from torchvision module\n",
        "\n",
        "# Defining a transform to normalize the data\n",
        "transform = transforms.Compose([transforms.ToTensor(),transforms.Normalize((0.5,0.5,0.5),(0.5,0.5,0.5)),])\n",
        "\n",
        "# Download and Load the training data\n",
        "trainset = datasets.MNIST('~/.pytorch/MNIST_data/',download=True,train=True,transform=transform)\n",
        "trainloader = torch.utils.data.DataLoader(trainset,batch_size=64,shuffle=True)\n"
      ],
      "execution_count": 0,
      "outputs": []
    },
    {
      "metadata": {
        "id": "cBlERJTzOlAk",
        "colab_type": "code",
        "colab": {}
      },
      "cell_type": "code",
      "source": [
        "def create_train_nn(dataset):\n",
        "  # Creating a dense neural network with 2 hidden layers to classify handwritten digits\n",
        "  model = nn.Sequential(nn.Linear(784,128),\n",
        "                       nn.ReLU(),\n",
        "                       nn.Linear(128,64),\n",
        "                       nn.ReLU(),\n",
        "                       nn.Linear(64,10),\n",
        "                       nn.LogSoftmax(dim=1))\n",
        "  \n",
        "  # creterion variable contains the loss function \n",
        "  criterion = nn.NLLLoss()\n",
        "  # optimizer will update the weights based on the gradient calculated using backpropagation\n",
        "  optimizer = optim.SGD(model.parameters(),lr=0.003)\n",
        "  \n",
        "  epochs = 5\n",
        "  for e in range(epochs):\n",
        "    running_loss = 0\n",
        "    for images,labels in dataset:\n",
        "      \n",
        "      # Converting 28*28 pixel image to 784 pixel vector\n",
        "      images = images.view(images.shape[0],-1)\n",
        "      \n",
        "      # Training Pass\n",
        "      output = model.forward(images)\n",
        "      loss = criterion(output,labels)\n",
        "      loss.backward()\n",
        "      optimizer.step()\n",
        "      \n",
        "      # Zero all the previous gradients before next pass\n",
        "      optimizer.zero_grad()\n",
        "      running_loss += loss.item()\n",
        "      \n",
        "    else:\n",
        "        print(f\"Training loss : {running_loss/len(trainloader)}\")\n",
        "  \n",
        "  return model"
      ],
      "execution_count": 0,
      "outputs": []
    },
    {
      "metadata": {
        "id": "2p6JjcCwRtWM",
        "colab_type": "code",
        "outputId": "e2c4d504-1453-4384-806d-9be381503dd4",
        "colab": {
          "base_uri": "https://localhost:8080/",
          "height": 330
        }
      },
      "cell_type": "code",
      "source": [
        "%matplotlib inline\n",
        "import helper\n",
        "\n",
        "images,labels = next(iter(trainloader))\n",
        "img = images[0].view(1,784)\n",
        "\n",
        "model = create_train_nn(trainloader)\n",
        "#Turn off gradient to speed up this part\n",
        "with torch.no_grad():\n",
        "  logits = model.forward(img)\n",
        "  \n",
        "ps = F.softmax(logits,dim=1)\n",
        "helper.view_classify(img.view(1,28,28),ps)"
      ],
      "execution_count": 6,
      "outputs": [
        {
          "output_type": "stream",
          "text": [
            "Training loss : 1.8825741184037377\n",
            "Training loss : 0.8390439773228631\n",
            "Training loss : 0.5264712786242398\n",
            "Training loss : 0.4360228638881559\n",
            "Training loss : 0.3915441897409811\n"
          ],
          "name": "stdout"
        },
        {
          "output_type": "display_data",
          "data": {
            "image/png": "[encoded data removed]",
            "text/plain": [
              "<matplotlib.figure.Figure at 0x7f560d499be0>"
            ]
          },
          "metadata": {
            "tags": []
          }
        }
      ]
    },
    {
      "metadata": {
        "id": "gSD9Nft0Upgu",
        "colab_type": "text"
      },
      "cell_type": "markdown",
      "source": [
        ""
      ]
    }
  ]
}